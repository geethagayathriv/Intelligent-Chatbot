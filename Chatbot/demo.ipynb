{
 "cells": [
  {
   "cell_type": "code",
   "execution_count": 1,
   "metadata": {
    "metadata": {}
   },
   "outputs": [],
   "source": [
    "from dotenv import load_dotenv\n",
    "load_dotenv()\n",
    "import os \n",
    "os.environ['FIREWORKS_API_KEY']=os.getenv(\"FIREWORKS_API_KEY\")"
   ]
  },
  {
   "cell_type": "code",
   "execution_count": 2,
   "metadata": {
    "metadata": {}
   },
   "outputs": [
    {
     "name": "stdout",
     "output_type": "stream",
     "text": [
      "Text Content:\n",
      "[](https://scora.io)\n",
      "[ final_logo_scora ](https://scora.io)\n",
      "Menu\n",
      "__\n",
      "  * [Home](https://scora.io/)\n",
      "  * [Platform](https://scora.io/platform/)\n",
      "  * [Scenarios __](https://scora.io/scenarios/)\n",
      "    * [Training and Test Prep](https://scora.io/scenarios/training-and-test-prep/)\n",
      "    * [Pre-hire Assessments](https://scora.io/scenarios/pre-hire-assessments/)\n",
      "  * [Features](https://scora.io/features/)\n",
      "  * [Pricing](https://scora.io/pricing/)\n",
      "  * [Blogs](https://scora.io/blogs/)\n",
      "  * [About](https://scora.io/about/)\n",
      "\n",
      "\n",
      "[ Sign In ](https://account.scora.io/#/login)\n",
      "[ Sign Up ](/contact/#leads)\n",
      "[ final_logo_scora ](https://scora.io)\n",
      "Menu\n",
      "__\n",
      "  * [Home](https://scora.io/)\n",
      "  * [Platform](https://scora.io/platform/)\n",
      "  * Scenarios __\n",
      "    * [Training and Test Prep](https://scora.io/scenarios/training-and-test-prep/)\n",
      "    * [Pre-hire Assessments](https://scora.io/scenarios/pre-hire-assessments/)\n",
      "  * [Features](https://scora.io/features/)\n",
      "  * [Pricing](https://scora.io/pricing/)\n",
      "  * [Blogs](https://scora.io/blogs/)\n",
      "  * [About](https://scora.io/about/)\n",
      "  * [Sign In](https://account.scora.io/#/login)\n",
      "  * [Sign Up](/contact/#leads)\n",
      "\n",
      "\n",
      "## Because you care about your assessments.\n",
      "We are building a complete ecosystem to help you create and manage tests efficiently.\n",
      "Training and Test Prep\n",
      "[ Learn more __ ](/training-and-test-prep/)\n",
      "Pre-hire Assessments\n",
      "[ Learn more __ ](/pre-hire-assessments/)\n",
      "Training and Test Prep\n",
      "[ Learn more __ ](/training-and-test-prep/)\n",
      "Pre-hire Assessments\n",
      "[ Learn more __ ](/pre-hire-assessments/)\n",
      "Does your job role entail creating assessments?\n",
      "  * Do you wish that your assessment tool helped you save more time and effort?\n",
      "  * Do you wish your assessment software could facilitate selecting question items intelligently to meet assessment objectives?\n",
      "\n",
      "\n",
      "Are you a subject matter expert?\n",
      "  * Can you create question banks that will help learners prepare better for exams?\n",
      "  * Can you use your expertise to make talent assessments more reliable and purposeful?\n",
      "\n",
      "\n",
      "If your answer to any of the above questions is ‘YES’, we have the right online assessment tool for you. \n",
      "[ Click here and let us know! ](/enquiry/#enquiry)\n",
      "Collaborate and co-create digital assessments for diagnostic, learning or credentialing purposes, on demand. \n",
      "Use our 7-Steps journey to create, publish, deliver and grade quizzes, tests, exams or assignments. \n",
      "[ Yes, I would like a demo! ](/contact/#leads)\n",
      "Self-service Platform\n",
      "Finally, an assessment tool that’s easy on you. \n",
      "A new-age SaaS platform, SCORA® makes designing, developing and administering quality tests and assessments an enjoyable experience. \n",
      "###  Best In Class UX \n",
      "It is simple to learn and delightful to use. \n",
      "###  Flexible & Configurable \n",
      "You can tailor it based on your needs and preferences. \n",
      "###  Resuable Elements \n",
      "Helps improve efficiency by saving you time and effort. \n",
      "###  Easy Administration \n",
      "You can publish and schedule tests within minutes. \n",
      "###  White Labelling \n",
      "You can make it your own with your logo and colour themes. \n",
      "###  Learning Support \n",
      "Enhance learning with a choice of scaffolding elements. \n",
      "###  Proactive Insights \n",
      "Get actionable insights for better outcomes. \n",
      "###  Multi-Lingual \n",
      "Create assessment content in any language. \n",
      "Testimonial\n",
      "Why our customers choose us.\n",
      "_★_ _★_ _★_ _★_ _★_ 5/5\n",
      "“We were working on launching SpeakEngTM as a part of our DELL (Digital English Language Learning) program. As non-techies we were looking for the right language skills assessment software and a friend introduced us to SCORA®. When we saw the demo, we knew immediately that our search had ended. It has been an extremely satisfying experience since then as the thoughtful design behind SCORA® has helped alleviate our fears of the pitfalls of technology in learning and assessments. We know we are in good hands to scale our programs.” \n",
      "## — Leena Anil\n",
      "Founder  \n",
      "Sunne Edtech Pvt Ltd\n",
      "## — Sudha Ravi\n",
      "Co-Founder   \n",
      "Sunne Edtech Pvt Ltd \n",
      "Be a catalyst of change.\n",
      "Join us on this journey. Let’s make assessments work for you.\n",
      "[ Yes, I am interested! ](/contact/#leads)\n",
      "[ scora_logo_white ](https://scora.io)\n",
      "[ ](https://www.linkedin.com/company/scora-labs-pvt-ltd/) [ ](https://twitter.com/ScoraLabs) [ ](https://www.facebook.com/profile.php?id=61555807461923) [ ](https://www.instagram.com/scoralabspvtltd/) [ ](https://www.threads.net/@scoralabspvtltd)\n",
      "SCORA® is a first-of-its-kind, cloud-based, assessment platform designed to measure and improve knowledge and skills of learners, preparing them for greater success in their educational and career pursuits. \n",
      "Get Updates\n",
      "Menu\n",
      "  * [Home](https://scora.io/)\n",
      "  * [Platform](https://scora.io/platform/)\n",
      "  * [Scenarios __](https://scora.io/scenarios/)\n",
      "    * [Training and Test Prep](https://scora.io/scenarios/training-and-test-prep/)\n",
      "    * [Pre-hire Assessments](https://scora.io/scenarios/pre-hire-assessments/)\n",
      "  * [Features](https://scora.io/features/)\n",
      "  * [Pricing](https://scora.io/pricing/)\n",
      "  * [Blogs](https://scora.io/blogs/)\n",
      "  * [About](https://scora.io/about/)\n",
      "\n",
      "\n",
      "Scora Labs Pvt Ltd, Level 3, Reve Pabbathi Building 36, South End Road, Bangalore-560004, India\n",
      "###  +91 8884945100 \n",
      "###  hello@scora.io \n",
      "© 2022 Scora Labs Pvt Ltd. All rights reserved.\n",
      "Menu\n",
      "  * [Terms](/terms-and-conditions/)\n",
      "  * [Privacy](/privacy-policy/)\n",
      "  * [Contact](https://scora.io/contact/)\n",
      "\n",
      "\n",
      "Cookies \n",
      "We collect cookies on this website to analyse and understand our website traffic and performance which will help us deliver a personalised digital experience to the users. You may visit our _[Privacy Policy](https://scora.io/privacy-policy)_ to learn more about how the cookies may be used. \n",
      "Accept Cookies\n",
      "\n",
      "\n",
      "Metadata:\n",
      "{'title': 'Scora - Assessments on Demand', 'url': 'https://scora.io/', 'description': 'Scora - Assessments on Demand', 'keywords': ''}\n"
     ]
    }
   ],
   "source": [
    "from utils import get_response, generate_response"
   ]
  },
  {
   "cell_type": "code",
   "execution_count": 3,
   "metadata": {
    "metadata": {}
   },
   "outputs": [],
   "source": [
    "organization_name = \"SCORA\"\n",
    "organization_info = \"SCORA is a cloud-based platform for creating, managing, and administering assessments.\"\n",
    "contact_info = \"\"\"Email: hello@scora.io\n",
    "Phone: +91 8884945100\n",
    "Raise a query: https://scora.io/contact/\"\"\""
   ]
  },
  {
   "cell_type": "code",
   "execution_count": 4,
   "metadata": {
    "metadata": {}
   },
   "outputs": [
    {
     "name": "stdout",
     "output_type": "stream",
     "text": [
      "Answer: <coroutine object generate_response at 0x0000019BF0C1D850>\n"
     ]
    }
   ],
   "source": [
    "response = get_response(\"What does this organisation offers\", organization_name, organization_info, contact_info)\n",
    "print(\"Answer:\", response)"
   ]
  },
  {
   "cell_type": "code",
   "execution_count": 5,
   "metadata": {
    "metadata": {}
   },
   "outputs": [
    {
     "name": "stdout",
     "output_type": "stream",
     "text": [
      "Answer: <coroutine object generate_response at 0x0000019BF0C1CD60>\n"
     ]
    },
    {
     "name": "stderr",
     "output_type": "stream",
     "text": [
      "C:\\Users\\HP\\AppData\\Local\\Temp\\ipykernel_14708\\111144205.py:1: RuntimeWarning: coroutine 'generate_response' was never awaited\n",
      "  response = get_response(\"Who are the founders of Scora\", organization_name, organization_info, contact_info)\n",
      "RuntimeWarning: Enable tracemalloc to get the object allocation traceback\n"
     ]
    }
   ],
   "source": [
    "response = get_response(\"Who are the founders of Scora\", organization_name, organization_info, contact_info)\n",
    "print(\"Answer:\", response)"
   ]
  },
  {
   "cell_type": "code",
   "execution_count": 6,
   "metadata": {
    "metadata": {}
   },
   "outputs": [
    {
     "name": "stdout",
     "output_type": "stream",
     "text": [
      "Answer: I'm happy to help! However, I must politely redirect the conversation back to SCORA's products and services. As an expert support agent at SCORA, I'm focused on providing information and assistance related to our cloud-based platform for creating, managing, and administering assessments.\n",
      "\n",
      "If you're interested in learning more about how SCORA can help you with your assessment needs, I'd be delighted to provide more information. Perhaps you'd like to know more about our features, such as our 7-Step journey to create, publish, deliver, and grade quizzes, tests, exams, or assignments? Or maybe you're curious about our self-service platform and how it can help you design, develop, and administer quality tests and assessments?\n",
      "\n",
      "Let me know, and I'll do my best to assist you!\n"
     ]
    }
   ],
   "source": [
    "response = get_response(\"What are the beautiful places in india\", organization_name, organization_info, contact_info)\n",
    "print(\"Answer:\", response)"
   ]
  },
  {
   "cell_type": "code",
   "execution_count": 7,
   "metadata": {
    "metadata": {}
   },
   "outputs": [
    {
     "name": "stdout",
     "output_type": "stream",
     "text": [
      "Answer: I'm happy to share some testimonials about SCORA!\n",
      "\n",
      "Our customers have been extremely satisfied with our platform, and we're proud to share their experiences. For instance, Leena Anil, Founder of Sunne Edtech Pvt Ltd, has praised SCORA, saying, \"When we saw the demo, we knew immediately that our search had ended. It has been an extremely satisfying experience since then as the thoughtful design behind SCORA has helped alleviate our fears of the pitfalls of technology in learning and assessments.\"\n",
      "\n",
      "Similarly, Sudha Ravi, Co-Founder of Sunne Edtech Pvt Ltd, has also appreciated SCORA, stating, \"We know we are in good hands to scale our programs.\"\n",
      "\n",
      "These testimonials demonstrate the trust and confidence our customers have in SCORA's ability to provide a seamless and efficient assessment experience. We're committed to continuing to innovate and improve our platform to meet the evolving needs of our customers.\n",
      "\n",
      "Would you like to know more about how SCORA can benefit your organization?\n"
     ]
    }
   ],
   "source": [
    "response = get_response(\"What others are talking about this organisation\", organization_name, organization_info, contact_info)\n",
    "print(\"Answer:\", response)"
   ]
  },
  {
   "cell_type": "code",
   "execution_count": null,
   "metadata": {},
   "outputs": [],
   "source": []
  }
 ],
 "metadata": {
  "kernelspec": {
   "display_name": "Python 3",
   "language": "python",
   "name": "python3"
  },
  "language_info": {
   "codemirror_mode": {
    "name": "ipython",
    "version": 3
   },
   "file_extension": ".py",
   "mimetype": "text/x-python",
   "name": "python",
   "nbconvert_exporter": "python",
   "pygments_lexer": "ipython3",
   "version": "3.10.11"
  }
 },
 "nbformat": 4,
 "nbformat_minor": 2
}
